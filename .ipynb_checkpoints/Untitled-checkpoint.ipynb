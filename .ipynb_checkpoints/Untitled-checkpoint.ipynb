{
 "cells": [
  {
   "cell_type": "code",
   "execution_count": 1,
   "id": "9a6fa1b9-6afb-4158-a062-f9514ed2da43",
   "metadata": {},
   "outputs": [
    {
     "name": "stderr",
     "output_type": "stream",
     "text": [
      "── \u001b[1mAttaching packages\u001b[22m ─────────────────────────────────────── tidyverse 1.3.1 ──\n",
      "\n",
      "\u001b[32m✔\u001b[39m \u001b[34mggplot2\u001b[39m 3.3.6     \u001b[32m✔\u001b[39m \u001b[34mpurrr  \u001b[39m 0.3.4\n",
      "\u001b[32m✔\u001b[39m \u001b[34mtibble \u001b[39m 3.1.7     \u001b[32m✔\u001b[39m \u001b[34mdplyr  \u001b[39m 1.0.9\n",
      "\u001b[32m✔\u001b[39m \u001b[34mtidyr  \u001b[39m 1.2.0     \u001b[32m✔\u001b[39m \u001b[34mstringr\u001b[39m 1.4.0\n",
      "\u001b[32m✔\u001b[39m \u001b[34mreadr  \u001b[39m 2.1.2     \u001b[32m✔\u001b[39m \u001b[34mforcats\u001b[39m 0.5.1\n",
      "\n",
      "── \u001b[1mConflicts\u001b[22m ────────────────────────────────────────── tidyverse_conflicts() ──\n",
      "\u001b[31m✖\u001b[39m \u001b[34mdplyr\u001b[39m::\u001b[32mfilter()\u001b[39m masks \u001b[34mstats\u001b[39m::filter()\n",
      "\u001b[31m✖\u001b[39m \u001b[34mdplyr\u001b[39m::\u001b[32mlag()\u001b[39m    masks \u001b[34mstats\u001b[39m::lag()\n",
      "\n",
      "── \u001b[1mAttaching packages\u001b[22m ────────────────────────────────────── tidymodels 1.0.0 ──\n",
      "\n",
      "\u001b[32m✔\u001b[39m \u001b[34mbroom       \u001b[39m 1.0.0     \u001b[32m✔\u001b[39m \u001b[34mrsample     \u001b[39m 1.0.0\n",
      "\u001b[32m✔\u001b[39m \u001b[34mdials       \u001b[39m 1.0.0     \u001b[32m✔\u001b[39m \u001b[34mtune        \u001b[39m 1.0.0\n",
      "\u001b[32m✔\u001b[39m \u001b[34minfer       \u001b[39m 1.0.2     \u001b[32m✔\u001b[39m \u001b[34mworkflows   \u001b[39m 1.0.0\n",
      "\u001b[32m✔\u001b[39m \u001b[34mmodeldata   \u001b[39m 1.0.0     \u001b[32m✔\u001b[39m \u001b[34mworkflowsets\u001b[39m 1.0.0\n",
      "\u001b[32m✔\u001b[39m \u001b[34mparsnip     \u001b[39m 1.0.0     \u001b[32m✔\u001b[39m \u001b[34myardstick   \u001b[39m 1.0.0\n",
      "\u001b[32m✔\u001b[39m \u001b[34mrecipes     \u001b[39m 1.0.1     \n",
      "\n",
      "── \u001b[1mConflicts\u001b[22m ───────────────────────────────────────── tidymodels_conflicts() ──\n",
      "\u001b[31m✖\u001b[39m \u001b[34mscales\u001b[39m::\u001b[32mdiscard()\u001b[39m masks \u001b[34mpurrr\u001b[39m::discard()\n",
      "\u001b[31m✖\u001b[39m \u001b[34mdplyr\u001b[39m::\u001b[32mfilter()\u001b[39m   masks \u001b[34mstats\u001b[39m::filter()\n",
      "\u001b[31m✖\u001b[39m \u001b[34mrecipes\u001b[39m::\u001b[32mfixed()\u001b[39m  masks \u001b[34mstringr\u001b[39m::fixed()\n",
      "\u001b[31m✖\u001b[39m \u001b[34mdplyr\u001b[39m::\u001b[32mlag()\u001b[39m      masks \u001b[34mstats\u001b[39m::lag()\n",
      "\u001b[31m✖\u001b[39m \u001b[34myardstick\u001b[39m::\u001b[32mspec()\u001b[39m masks \u001b[34mreadr\u001b[39m::spec()\n",
      "\u001b[31m✖\u001b[39m \u001b[34mrecipes\u001b[39m::\u001b[32mstep()\u001b[39m   masks \u001b[34mstats\u001b[39m::step()\n",
      "\u001b[34m•\u001b[39m Search for functions across packages at \u001b[32mhttps://www.tidymodels.org/find/\u001b[39m\n",
      "\n",
      "Warning message in file(filename, \"r\", encoding = encoding):\n",
      "“cannot open file 'tests.R': No such file or directory”\n"
     ]
    },
    {
     "ename": "ERROR",
     "evalue": "Error in file(filename, \"r\", encoding = encoding): cannot open the connection\n",
     "output_type": "error",
     "traceback": [
      "Error in file(filename, \"r\", encoding = encoding): cannot open the connection\nTraceback:\n",
      "1. source(\"tests.R\")",
      "2. file(filename, \"r\", encoding = encoding)"
     ]
    }
   ],
   "source": [
    "library(tidyverse)\n",
    "library(repr)\n",
    "library(tidymodels)\n",
    "options(repr.matrix.max.rows = 6)\n",
    "source('tests.R')\n",
    "source('cleanup.R')"
   ]
  },
  {
   "cell_type": "code",
   "execution_count": 14,
   "id": "bafb4b62-90fa-429c-84e6-d307a566ede7",
   "metadata": {},
   "outputs": [
    {
     "name": "stderr",
     "output_type": "stream",
     "text": [
      "Warning message:\n",
      "“One or more parsing issues, see `problems()` for details”\n",
      "\u001b[1mRows: \u001b[22m\u001b[34m8013\u001b[39m \u001b[1mColumns: \u001b[22m\u001b[34m30\u001b[39m\n",
      "\u001b[36m──\u001b[39m \u001b[1mColumn specification\u001b[22m \u001b[36m────────────────────────────────────────────────────────\u001b[39m\n",
      "\u001b[1mDelimiter:\u001b[22m \",\"\n",
      "\u001b[31mchr\u001b[39m  (10): prename, prfname, product_name, numtotal_totaldoses_admin, numtot...\n",
      "\u001b[32mdbl\u001b[39m  (19): pruid, numdelta_dose1, numdelta_dose2, numdelta_dose3, numdelta_d...\n",
      "\u001b[34mdate\u001b[39m  (1): week_end\n",
      "\n",
      "\u001b[36mℹ\u001b[39m Use `spec()` to retrieve the full column specification for this data.\n",
      "\u001b[36mℹ\u001b[39m Specify the column types or set `show_col_types = FALSE` to quiet this message.\n"
     ]
    },
    {
     "data": {
      "text/html": [
       "<table class=\"dataframe\">\n",
       "<caption>A spec_tbl_df: 6 × 30</caption>\n",
       "<thead>\n",
       "\t<tr><th scope=col>week_end</th><th scope=col>pruid</th><th scope=col>prename</th><th scope=col>prfname</th><th scope=col>product_name</th><th scope=col>numtotal_totaldoses_admin</th><th scope=col>numtotal_dose1_admin</th><th scope=col>numtotal_dose2_admin</th><th scope=col>numtotal_dose3_admin</th><th scope=col>numtotal_dose4_admin</th><th scope=col>⋯</th><th scope=col>num2weekdelta_dose3</th><th scope=col>num2weekdelta_dose4</th><th scope=col>num2weekdelta_dose5+</th><th scope=col>num2weekdelta_notreported</th><th scope=col>num4weekdelta_dose1</th><th scope=col>num4weekdelta_dose2</th><th scope=col>num4weekdelta_dose3</th><th scope=col>num4weekdelta_dose4</th><th scope=col>num4weekdelta_dose5+</th><th scope=col>num4weekdelta_notreported</th></tr>\n",
       "\t<tr><th scope=col>&lt;date&gt;</th><th scope=col>&lt;dbl&gt;</th><th scope=col>&lt;chr&gt;</th><th scope=col>&lt;chr&gt;</th><th scope=col>&lt;chr&gt;</th><th scope=col>&lt;chr&gt;</th><th scope=col>&lt;chr&gt;</th><th scope=col>&lt;chr&gt;</th><th scope=col>&lt;chr&gt;</th><th scope=col>&lt;chr&gt;</th><th scope=col>⋯</th><th scope=col>&lt;dbl&gt;</th><th scope=col>&lt;dbl&gt;</th><th scope=col>&lt;dbl&gt;</th><th scope=col>&lt;dbl&gt;</th><th scope=col>&lt;dbl&gt;</th><th scope=col>&lt;dbl&gt;</th><th scope=col>&lt;dbl&gt;</th><th scope=col>&lt;dbl&gt;</th><th scope=col>&lt;dbl&gt;</th><th scope=col>&lt;dbl&gt;</th></tr>\n",
       "</thead>\n",
       "<tbody>\n",
       "\t<tr><td>2020-12-19</td><td> 1</td><td>Canada                   </td><td>Canada                 </td><td>Not reported                                       </td><td>0    </td><td>0   </td><td>0</td><td>NA</td><td>NA</td><td>⋯</td><td>NA</td><td>NA</td><td>NA</td><td>NA</td><td>NA</td><td>NA</td><td>NA</td><td>NA</td><td>NA</td><td>NA</td></tr>\n",
       "\t<tr><td>2020-12-19</td><td> 1</td><td>Canada                   </td><td>Canada                 </td><td>Pfizer-BioNTech Comirnaty (ages 12 years and older)</td><td>12360</td><td>7632</td><td>0</td><td>NA</td><td>NA</td><td>⋯</td><td>NA</td><td>NA</td><td>NA</td><td>NA</td><td>NA</td><td>NA</td><td>NA</td><td>NA</td><td>NA</td><td>NA</td></tr>\n",
       "\t<tr><td>2020-12-19</td><td> 1</td><td>Canada                   </td><td>Canada                 </td><td>Total                                              </td><td>12362</td><td>7634</td><td>0</td><td>NA</td><td>NA</td><td>⋯</td><td>NA</td><td>NA</td><td>NA</td><td>NA</td><td>NA</td><td>NA</td><td>NA</td><td>NA</td><td>NA</td><td>NA</td></tr>\n",
       "\t<tr><td>2020-12-19</td><td> 1</td><td>Canada                   </td><td>Canada                 </td><td>Unknown                                            </td><td>2    </td><td>2   </td><td>0</td><td>NA</td><td>NA</td><td>⋯</td><td>NA</td><td>NA</td><td>NA</td><td>NA</td><td>NA</td><td>NA</td><td>NA</td><td>NA</td><td>NA</td><td>NA</td></tr>\n",
       "\t<tr><td>2020-12-19</td><td>10</td><td>Newfoundland and Labrador</td><td>Terre-Neuve-et-Labrador</td><td>Not reported                                       </td><td>0    </td><td>0   </td><td>0</td><td>NA</td><td>NA</td><td>⋯</td><td>NA</td><td>NA</td><td>NA</td><td>NA</td><td>NA</td><td>NA</td><td>NA</td><td>NA</td><td>NA</td><td>NA</td></tr>\n",
       "\t<tr><td>2020-12-19</td><td>10</td><td>Newfoundland and Labrador</td><td>Terre-Neuve-et-Labrador</td><td>Pfizer-BioNTech Comirnaty (ages 12 years and older)</td><td>972  </td><td>972 </td><td>0</td><td>NA</td><td>NA</td><td>⋯</td><td>NA</td><td>NA</td><td>NA</td><td>NA</td><td>NA</td><td>NA</td><td>NA</td><td>NA</td><td>NA</td><td>NA</td></tr>\n",
       "</tbody>\n",
       "</table>\n"
      ],
      "text/latex": [
       "A spec\\_tbl\\_df: 6 × 30\n",
       "\\begin{tabular}{lllllllllllllllllllll}\n",
       " week\\_end & pruid & prename & prfname & product\\_name & numtotal\\_totaldoses\\_admin & numtotal\\_dose1\\_admin & numtotal\\_dose2\\_admin & numtotal\\_dose3\\_admin & numtotal\\_dose4\\_admin & ⋯ & num2weekdelta\\_dose3 & num2weekdelta\\_dose4 & num2weekdelta\\_dose5+ & num2weekdelta\\_notreported & num4weekdelta\\_dose1 & num4weekdelta\\_dose2 & num4weekdelta\\_dose3 & num4weekdelta\\_dose4 & num4weekdelta\\_dose5+ & num4weekdelta\\_notreported\\\\\n",
       " <date> & <dbl> & <chr> & <chr> & <chr> & <chr> & <chr> & <chr> & <chr> & <chr> & ⋯ & <dbl> & <dbl> & <dbl> & <dbl> & <dbl> & <dbl> & <dbl> & <dbl> & <dbl> & <dbl>\\\\\n",
       "\\hline\n",
       "\t 2020-12-19 &  1 & Canada                    & Canada                  & Not reported                                        & 0     & 0    & 0 & NA & NA & ⋯ & NA & NA & NA & NA & NA & NA & NA & NA & NA & NA\\\\\n",
       "\t 2020-12-19 &  1 & Canada                    & Canada                  & Pfizer-BioNTech Comirnaty (ages 12 years and older) & 12360 & 7632 & 0 & NA & NA & ⋯ & NA & NA & NA & NA & NA & NA & NA & NA & NA & NA\\\\\n",
       "\t 2020-12-19 &  1 & Canada                    & Canada                  & Total                                               & 12362 & 7634 & 0 & NA & NA & ⋯ & NA & NA & NA & NA & NA & NA & NA & NA & NA & NA\\\\\n",
       "\t 2020-12-19 &  1 & Canada                    & Canada                  & Unknown                                             & 2     & 2    & 0 & NA & NA & ⋯ & NA & NA & NA & NA & NA & NA & NA & NA & NA & NA\\\\\n",
       "\t 2020-12-19 & 10 & Newfoundland and Labrador & Terre-Neuve-et-Labrador & Not reported                                        & 0     & 0    & 0 & NA & NA & ⋯ & NA & NA & NA & NA & NA & NA & NA & NA & NA & NA\\\\\n",
       "\t 2020-12-19 & 10 & Newfoundland and Labrador & Terre-Neuve-et-Labrador & Pfizer-BioNTech Comirnaty (ages 12 years and older) & 972   & 972  & 0 & NA & NA & ⋯ & NA & NA & NA & NA & NA & NA & NA & NA & NA & NA\\\\\n",
       "\\end{tabular}\n"
      ],
      "text/markdown": [
       "\n",
       "A spec_tbl_df: 6 × 30\n",
       "\n",
       "| week_end &lt;date&gt; | pruid &lt;dbl&gt; | prename &lt;chr&gt; | prfname &lt;chr&gt; | product_name &lt;chr&gt; | numtotal_totaldoses_admin &lt;chr&gt; | numtotal_dose1_admin &lt;chr&gt; | numtotal_dose2_admin &lt;chr&gt; | numtotal_dose3_admin &lt;chr&gt; | numtotal_dose4_admin &lt;chr&gt; | ⋯ ⋯ | num2weekdelta_dose3 &lt;dbl&gt; | num2weekdelta_dose4 &lt;dbl&gt; | num2weekdelta_dose5+ &lt;dbl&gt; | num2weekdelta_notreported &lt;dbl&gt; | num4weekdelta_dose1 &lt;dbl&gt; | num4weekdelta_dose2 &lt;dbl&gt; | num4weekdelta_dose3 &lt;dbl&gt; | num4weekdelta_dose4 &lt;dbl&gt; | num4weekdelta_dose5+ &lt;dbl&gt; | num4weekdelta_notreported &lt;dbl&gt; |\n",
       "|---|---|---|---|---|---|---|---|---|---|---|---|---|---|---|---|---|---|---|---|---|\n",
       "| 2020-12-19 |  1 | Canada                    | Canada                  | Not reported                                        | 0     | 0    | 0 | NA | NA | ⋯ | NA | NA | NA | NA | NA | NA | NA | NA | NA | NA |\n",
       "| 2020-12-19 |  1 | Canada                    | Canada                  | Pfizer-BioNTech Comirnaty (ages 12 years and older) | 12360 | 7632 | 0 | NA | NA | ⋯ | NA | NA | NA | NA | NA | NA | NA | NA | NA | NA |\n",
       "| 2020-12-19 |  1 | Canada                    | Canada                  | Total                                               | 12362 | 7634 | 0 | NA | NA | ⋯ | NA | NA | NA | NA | NA | NA | NA | NA | NA | NA |\n",
       "| 2020-12-19 |  1 | Canada                    | Canada                  | Unknown                                             | 2     | 2    | 0 | NA | NA | ⋯ | NA | NA | NA | NA | NA | NA | NA | NA | NA | NA |\n",
       "| 2020-12-19 | 10 | Newfoundland and Labrador | Terre-Neuve-et-Labrador | Not reported                                        | 0     | 0    | 0 | NA | NA | ⋯ | NA | NA | NA | NA | NA | NA | NA | NA | NA | NA |\n",
       "| 2020-12-19 | 10 | Newfoundland and Labrador | Terre-Neuve-et-Labrador | Pfizer-BioNTech Comirnaty (ages 12 years and older) | 972   | 972  | 0 | NA | NA | ⋯ | NA | NA | NA | NA | NA | NA | NA | NA | NA | NA |\n",
       "\n"
      ],
      "text/plain": [
       "  week_end   pruid prename                   prfname                \n",
       "1 2020-12-19  1    Canada                    Canada                 \n",
       "2 2020-12-19  1    Canada                    Canada                 \n",
       "3 2020-12-19  1    Canada                    Canada                 \n",
       "4 2020-12-19  1    Canada                    Canada                 \n",
       "5 2020-12-19 10    Newfoundland and Labrador Terre-Neuve-et-Labrador\n",
       "6 2020-12-19 10    Newfoundland and Labrador Terre-Neuve-et-Labrador\n",
       "  product_name                                        numtotal_totaldoses_admin\n",
       "1 Not reported                                        0                        \n",
       "2 Pfizer-BioNTech Comirnaty (ages 12 years and older) 12360                    \n",
       "3 Total                                               12362                    \n",
       "4 Unknown                                             2                        \n",
       "5 Not reported                                        0                        \n",
       "6 Pfizer-BioNTech Comirnaty (ages 12 years and older) 972                      \n",
       "  numtotal_dose1_admin numtotal_dose2_admin numtotal_dose3_admin\n",
       "1 0                    0                    NA                  \n",
       "2 7632                 0                    NA                  \n",
       "3 7634                 0                    NA                  \n",
       "4 2                    0                    NA                  \n",
       "5 0                    0                    NA                  \n",
       "6 972                  0                    NA                  \n",
       "  numtotal_dose4_admin ⋯ num2weekdelta_dose3 num2weekdelta_dose4\n",
       "1 NA                   ⋯ NA                  NA                 \n",
       "2 NA                   ⋯ NA                  NA                 \n",
       "3 NA                   ⋯ NA                  NA                 \n",
       "4 NA                   ⋯ NA                  NA                 \n",
       "5 NA                   ⋯ NA                  NA                 \n",
       "6 NA                   ⋯ NA                  NA                 \n",
       "  num2weekdelta_dose5+ num2weekdelta_notreported num4weekdelta_dose1\n",
       "1 NA                   NA                        NA                 \n",
       "2 NA                   NA                        NA                 \n",
       "3 NA                   NA                        NA                 \n",
       "4 NA                   NA                        NA                 \n",
       "5 NA                   NA                        NA                 \n",
       "6 NA                   NA                        NA                 \n",
       "  num4weekdelta_dose2 num4weekdelta_dose3 num4weekdelta_dose4\n",
       "1 NA                  NA                  NA                 \n",
       "2 NA                  NA                  NA                 \n",
       "3 NA                  NA                  NA                 \n",
       "4 NA                  NA                  NA                 \n",
       "5 NA                  NA                  NA                 \n",
       "6 NA                  NA                  NA                 \n",
       "  num4weekdelta_dose5+ num4weekdelta_notreported\n",
       "1 NA                   NA                       \n",
       "2 NA                   NA                       \n",
       "3 NA                   NA                       \n",
       "4 NA                   NA                       \n",
       "5 NA                   NA                       \n",
       "6 NA                   NA                       "
      ]
     },
     "metadata": {},
     "output_type": "display_data"
    }
   ],
   "source": [
    "vaccine <- read_csv(\"data/vaccination-administration-bydosenumber2.csv\")\n",
    "slice(vaccine, 1:6)"
   ]
  },
  {
   "cell_type": "code",
   "execution_count": 22,
   "id": "6c65fe47-acdb-408e-9f77-3889816aafeb",
   "metadata": {},
   "outputs": [
    {
     "ename": "ERROR",
     "evalue": "\u001b[1m\u001b[33mError\u001b[39m in \u001b[1m\u001b[1m`summarise()`:\u001b[22m\n\u001b[1m\u001b[22m\u001b[33m!\u001b[39m Problem while computing `new = rowSums(.)`.\n\u001b[36mℹ\u001b[39m The error occurred in group 1: week_end = 2020-12-19.\n\u001b[1mCaused by error in \u001b[1m\u001b[1m`is.data.frame()`:\u001b[22m\n\u001b[33m!\u001b[39m object '.' not found\n",
     "output_type": "error",
     "traceback": [
      "\u001b[1m\u001b[33mError\u001b[39m in \u001b[1m\u001b[1m`summarise()`:\u001b[22m\n\u001b[1m\u001b[22m\u001b[33m!\u001b[39m Problem while computing `new = rowSums(.)`.\n\u001b[36mℹ\u001b[39m The error occurred in group 1: week_end = 2020-12-19.\n\u001b[1mCaused by error in \u001b[1m\u001b[1m`is.data.frame()`:\u001b[22m\n\u001b[33m!\u001b[39m object '.' not found\nTraceback:\n",
      "1. summarise(group_by(select(select(filter(vaccine, prename == \"Canada\"), \n .     week_end:numtotal_dosenotreported_admin), !pruid:product_name), \n .     week_end), new = rowSums(.))",
      "2. summarise.grouped_df(group_by(select(select(filter(vaccine, prename == \n .     \"Canada\"), week_end:numtotal_dosenotreported_admin), !pruid:product_name), \n .     week_end), new = rowSums(.))",
      "3. summarise_cols(.data, dplyr_quosures(...), caller_env = caller_env())",
      "4. withCallingHandlers({\n .     for (i in seq_along(dots)) {\n .         context_poke(\"column\", old_current_column)\n .         quosures <- expand_across(dots[[i]])\n .         quosures_results <- map(quosures, summarise_eval_one, \n .             mask = mask)\n .         for (k in seq_along(quosures)) {\n .             quo <- quosures[[k]]\n .             quo_data <- attr(quo, \"dplyr:::data\")\n .             quo_result <- quosures_results[[k]]\n .             if (is.null(quo_result)) {\n .                 next\n .             }\n .             types_k <- quo_result$types\n .             chunks_k <- quo_result$chunks\n .             results_k <- quo_result$results\n .             if (!quo_data$is_named && is.data.frame(types_k)) {\n .                 chunks_extracted <- .Call(dplyr_extract_chunks, \n .                   chunks_k, types_k)\n .                 types_k_names <- names(types_k)\n .                 for (j in seq_along(chunks_extracted)) {\n .                   mask$add_one(name = types_k_names[j], chunks = chunks_extracted[[j]], \n .                     result = results_k[[j]])\n .                 }\n .                 chunks <- append(chunks, chunks_extracted)\n .                 types <- append(types, as.list(types_k))\n .                 results <- append(results, results_k)\n .                 out_names <- c(out_names, types_k_names)\n .             }\n .             else {\n .                 name <- quo_data$name_auto\n .                 mask$add_one(name = name, chunks = chunks_k, \n .                   result = results_k)\n .                 chunks <- append(chunks, list(chunks_k))\n .                 types <- append(types, list(types_k))\n .                 results <- append(results, list(results_k))\n .                 out_names <- c(out_names, name)\n .             }\n .         }\n .     }\n .     recycle_info <- .Call(dplyr_summarise_recycle_chunks, chunks, \n .         mask$get_rows(), types, results)\n .     chunks <- recycle_info$chunks\n .     sizes <- recycle_info$sizes\n .     results <- recycle_info$results\n .     for (i in seq_along(chunks)) {\n .         result <- results[[i]] %||% vec_c(!!!chunks[[i]], .ptype = types[[i]])\n .         cols[[out_names[i]]] <- result\n .     }\n . }, error = function(e) {\n .     what <- \"computing\"\n .     index <- i\n .     if (inherits(e, \"dplyr:::summarise_incompatible_size\")) {\n .         index <- e$dplyr_error_data$index\n .         what <- \"recycling\"\n .     }\n .     local_error_context(dots = dots, .index = index, mask = mask)\n .     bullets <- c(cnd_bullet_header(what), summarise_bullets(e))\n .     abort(bullets, call = error_call, parent = skip_internal_condition(e))\n . })",
      "5. map(quosures, summarise_eval_one, mask = mask)",
      "6. lapply(.x, .f, ...)",
      "7. FUN(X[[i]], ...)",
      "8. mask$eval_all_summarise(quo)",
      "9. rowSums(.)",
      "10. is.data.frame(x)",
      "11. .handleSimpleError(function (e) \n  . {\n  .     what <- \"computing\"\n  .     index <- i\n  .     if (inherits(e, \"dplyr:::summarise_incompatible_size\")) {\n  .         index <- e$dplyr_error_data$index\n  .         what <- \"recycling\"\n  .     }\n  .     local_error_context(dots = dots, .index = index, mask = mask)\n  .     bullets <- c(cnd_bullet_header(what), summarise_bullets(e))\n  .     abort(bullets, call = error_call, parent = skip_internal_condition(e))\n  . }, \"object '.' not found\", base::quote(is.data.frame(x)))",
      "12. h(simpleError(msg, call))",
      "13. abort(bullets, call = error_call, parent = skip_internal_condition(e))",
      "14. signal_abort(cnd, .file)"
     ]
    }
   ],
   "source": [
    "vaccine_ca <- vaccine|>\n",
    "        filter(prename == \"Canada\")|>\n",
    "        select(week_end:numtotal_dosenotreported_admin)|>\n",
    "    select(!pruid:product_name)|>\n",
    "    group_by(week_end)|>\n",
    "    summarise(new=rowSums(.))\n",
    "\n",
    "#        mutate(numbers = numtotal_partially + numtotal_fully+ numtotal_additional+ numtotal_2nd_additional+ numtotal_recent_fullyoradditional)\n",
    "#filter for all sexes\n",
    "\n",
    "      #  group_by(week_end,age)\n",
    "vaccine_ca\n",
    "\n",
    "aaa <- vaccine_ca|>\n",
    "ggplot(aes(y=numtotal_additional, x=week_end, color=age))+\n",
    "geom_point()\n",
    "\n",
    "aaa"
   ]
  },
  {
   "cell_type": "code",
   "execution_count": null,
   "id": "8cfa613b-2fc3-46aa-bcc6-d3d372114f06",
   "metadata": {},
   "outputs": [],
   "source": []
  },
  {
   "cell_type": "code",
   "execution_count": 13,
   "id": "137cdac9-1a04-4f0b-b76c-2f7eb31e0a03",
   "metadata": {},
   "outputs": [],
   "source": [
    "#vaccine_ca(is.na(vaccine_ca)) <- 0\n",
    "#vaccine_ca <-       mutate(vaccine_ca, number = rowSums(numtotal_atleast1dose:numtotal_recent_fullyoradditional, na.rm = TRUE))\n",
    "#vaccine_ca <- mutate(vaccine_ca, number = numtotal_atleast1dose+numtotal_partially+numtotal_fully +numtotal_additional+ numtotal_2nd_additional+numtotal_recent_fullyoradditional , na.rm=TRUE)\n",
    "#df <- as.data.frame(vaccine_ca)\n",
    "#mutate_all(df, ~colesce(.,0))\n",
    "#vaccine_ca\n"
   ]
  },
  {
   "cell_type": "code",
   "execution_count": null,
   "id": "91e41e9c-37a0-4ab3-8060-ee0648fd70df",
   "metadata": {},
   "outputs": [],
   "source": [
    "logistic fit "
   ]
  }
 ],
 "metadata": {
  "kernelspec": {
   "display_name": "R",
   "language": "R",
   "name": "ir"
  },
  "language_info": {
   "codemirror_mode": "r",
   "file_extension": ".r",
   "mimetype": "text/x-r-source",
   "name": "R",
   "pygments_lexer": "r",
   "version": "4.1.3"
  }
 },
 "nbformat": 4,
 "nbformat_minor": 5
}
